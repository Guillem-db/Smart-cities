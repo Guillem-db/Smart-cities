{
 "cells": [
  {
   "cell_type": "code",
   "execution_count": 3,
   "metadata": {
    "collapsed": false
   },
   "outputs": [
    {
     "name": "stdout",
     "output_type": "stream",
     "text": [
      "Populating the interactive namespace from numpy and matplotlib\n"
     ]
    },
    {
     "name": "stderr",
     "output_type": "stream",
     "text": [
      "/home/kalidus/anaconda3/lib/python3.5/site-packages/matplotlib/__init__.py:872: UserWarning: axes.color_cycle is deprecated and replaced with axes.prop_cycle; please use the latter.\n",
      "  warnings.warn(self.msg_depr % (key, alt_key))\n"
     ]
    }
   ],
   "source": [
    "import numpy as np\n",
    "import pandas as pd\n",
    "import seaborn as sns\n",
    "%pylab inline"
   ]
  },
  {
   "cell_type": "markdown",
   "metadata": {},
   "source": [
    "# Smart Cities network design calculations"
   ]
  },
  {
   "cell_type": "markdown",
   "metadata": {},
   "source": [
    "# Power & Distance calculations"
   ]
  },
  {
   "cell_type": "markdown",
   "metadata": {},
   "source": [
    " $P_{Tx}-P_{L}(d)=P_{Rx_{min}}$               Eq.(1)           "
   ]
  },
  {
   "cell_type": "markdown",
   "metadata": {},
   "source": [
    "<img src='perdidas.png'></img>"
   ]
  },
  {
   "cell_type": "code",
   "execution_count": 43,
   "metadata": {
    "collapsed": false
   },
   "outputs": [],
   "source": [
    "class PowerCalc:\n",
    "    def __init__(self,ptx=None,prx=None,d=None):\n",
    "        self.Ptx=ptx\n",
    "        self.Prx=prx\n",
    "        self.D=d\n",
    "        \n",
    "    def PL(self,d):\n",
    "        \"\"\"Path loss function as described in the image above\"\"\"\n",
    "        if d <=8:\n",
    "            return 40.2+20*np.log10(d)\n",
    "        else:\n",
    "            return 58.5+33*np.log10(d/8.0)   \n",
    "\n",
    "    def antilog(self,x):\n",
    "        return 10 ** x\n",
    "\n",
    "    def maxDist(self,ptx,prx,verbose=False):\n",
    "        thres=pc.PL(8)\n",
    "        PL=ptx-prx\n",
    "        if PL<=thres:\n",
    "            dist=self.antilog((PL-40.2)/20.0)\n",
    "        else:\n",
    "            dist=self.antilog((PL-58.5)/33.0)*8\n",
    "        if verbose:\n",
    "            print(\"POWER PARAMETERS:\\n Ptx: {}dBm\\n Prx:{}dBm\\n\\nMaximum distance: {}m\".format(ptx,prx,np.round(dist,2)))\n",
    "        return dist\n",
    "        \n",
    "        \n",
    "    def power(self,d,ptx,prx,target='Tx',verbose=False):\n",
    "        if target=='Tx':\n",
    "            if verbose:\n",
    "                print(\"INPUT DATA:\\n Distance: {}m\\n Prx: {}dBm\\n\\nTARGET\\n Ptx: {}dBm\".format(d,prx,ptx))\n",
    "            return prx+self.PL(d)\n",
    "        else:\n",
    "            if verbose:\n",
    "                print(\"INPUT DATA:\\n Distance: {}m\\n Ptx: {}dBm\\n\\nTARGET\\n Prx: {}dBm\".format(d,ptx,prx))\n",
    "            return ptx-self.PL(d)        \n",
    "        \n",
    "    def calculate(self,target='D',d=None,ptx=None,prx=None, verbose=True):\n",
    "        \"\"\"Calculates Eq.(1) for the target parameter given the other two parameters are known\"\"\"\n",
    "        a= d is not None\n",
    "        b= ptx is not None\n",
    "        c= prx is not None\n",
    "        if a:\n",
    "            D=d\n",
    "        else:\n",
    "            D=self.D\n",
    "        if b:\n",
    "            Ptx=ptx\n",
    "        else:\n",
    "            Ptx=self.Ptx\n",
    "        if c:\n",
    "            Prx=prx\n",
    "        else:\n",
    "            Prx=self.Prx     \n",
    "            \n",
    "        if target==\"D\":\n",
    "            return self.maxDist(Ptx,Prx,verbose)\n",
    "        elif target=='Tx':\n",
    "            return self.power(D,Ptx,Prx,verbose=verbose)\n",
    "        elif target=='Rx':\n",
    "            return self.power(D,Ptx,Prx,target='Rx',verbose=verbose)\n",
    "        "
   ]
  },
  {
   "cell_type": "code",
   "execution_count": 44,
   "metadata": {
    "collapsed": false
   },
   "outputs": [
    {
     "data": {
      "image/png": "[encoded data removed]",
      "text/plain": [
       "<matplotlib.figure.Figure at 0x7ff78e72b630>"
      ]
     },
     "metadata": {},
     "output_type": "display_data"
    }
   ],
   "source": [
    "pc=PowerCalc()\n",
    "ds=np.logspace(start=0,stop=2,num=500)\n",
    "plt.figure(figsize=(15,7))\n",
    "plt.scatter(ds,[pc.PL(d) for d in ds])\n",
    "plt.title('Signal attenuation PL(d)',fontsize=20)\n",
    "plt.xlabel('Distance(m)',fontsize=16)\n",
    "a=plt.ylabel(\"Power(dBm)\",fontsize=16)"
   ]
  },
  {
   "cell_type": "code",
   "execution_count": 45,
   "metadata": {
    "collapsed": false
   },
   "outputs": [
    {
     "name": "stdout",
     "output_type": "stream",
     "text": [
      "POWER PARAMETERS:\n",
      " Ptx: 0dBm\n",
      " Prx:-85.0dBm\n",
      "\n",
      "Maximum distance: 50.83m\n"
     ]
    },
    {
     "data": {
      "text/plain": [
       "50.83002110467587"
      ]
     },
     "execution_count": 45,
     "metadata": {},
     "output_type": "execute_result"
    }
   ],
   "source": [
    "pc=PowerCalc(ptx=0,prx=-85.0)\n",
    "pc.calculate(target='D',verbose=True)#exemple diapositives"
   ]
  },
  {
   "cell_type": "code",
   "execution_count": 46,
   "metadata": {
    "collapsed": false
   },
   "outputs": [
    {
     "name": "stdout",
     "output_type": "stream",
     "text": [
      "INPUT DATA:\n",
      " Distance: 75m\n",
      " Prx: -85.0dBm\n",
      "\n",
      "TARGET\n",
      " Ptx: 2.3dBm\n"
     ]
    },
    {
     "data": {
      "text/plain": [
       "5.575052121191959"
      ]
     },
     "execution_count": 46,
     "metadata": {},
     "output_type": "execute_result"
    }
   ],
   "source": [
    "pc.calculate(target='Tx',ptx=2.3,d=75,verbose=True)"
   ]
  },
  {
   "cell_type": "markdown",
   "metadata": {},
   "source": [
    "## Delay calculations"
   ]
  },
  {
   "cell_type": "markdown",
   "metadata": {},
   "source": [
    "### Physical layer frame"
   ]
  },
  {
   "cell_type": "markdown",
   "metadata": {},
   "source": [
    "<img src='physical.png'></img>"
   ]
  },
  {
   "cell_type": "markdown",
   "metadata": {},
   "source": [
    "### MAC layer frame"
   ]
  },
  {
   "cell_type": "markdown",
   "metadata": {},
   "source": [
    "<img src='MAC.png'></img>\n"
   ]
  },
  {
   "cell_type": "markdown",
   "metadata": {},
   "source": [
    "### Frame delay with ACK"
   ]
  },
  {
   "cell_type": "markdown",
   "metadata": {},
   "source": [
    "<img src='Tack.png'></img>"
   ]
  },
  {
   "cell_type": "markdown",
   "metadata": {},
   "source": [
    "### Frame delay without ACK"
   ]
  },
  {
   "cell_type": "markdown",
   "metadata": {},
   "source": [
    "<img src='Tnack.png'></img>"
   ]
  },
  {
   "cell_type": "markdown",
   "metadata": {},
   "source": [
    "$T_{BO}=n_{BO}·20·T_{SYM}$"
   ]
  },
  {
   "cell_type": "markdown",
   "metadata": {},
   "source": [
    "$T_{TA}=12·T_{SYM}$"
   ]
  },
  {
   "cell_type": "markdown",
   "metadata": {},
   "source": [
    "$T_{ACK}=10·T_{SYM}$ "
   ]
  },
  {
   "cell_type": "markdown",
   "metadata": {},
   "source": [
    "$T_{Frame}=PHY_{Header}+3Bytes+Addressing Bytes+PAYLOAD+Footer$"
   ]
  },
  {
   "cell_type": "code",
   "execution_count": 64,
   "metadata": {
    "collapsed": true
   },
   "outputs": [],
   "source": [
    "from IPython.display import display, Math, Latex"
   ]
  },
  {
   "cell_type": "code",
   "execution_count": 93,
   "metadata": {
    "collapsed": false
   },
   "outputs": [],
   "source": [
    "def Tframe(payload=118,inf_address=4,Tsim_us=16):\n",
    "    \"Calculates the time duration of a frame in miliseconds\"\n",
    "    PHY_layer=8\n",
    "    num_bytes=PHY_layer+3+inf_address+payload+2\n",
    "    Tf=num_bytes*2*Tsim_us/1000.0\n",
    "    return Tf\n",
    "\n",
    "def Tifs(payload=20,Tsim_us=16):\n",
    "    \"Calculates Tifs according to slides\"\n",
    "    if payload<=13:\n",
    "        return 12*Tsim_us/1000.0\n",
    "    else:\n",
    "        return 40*Tsim_us/1000.0\n",
    "\n",
    "def delay_1_jump(payload=118,inf_address=4,Tsim_us=16,ack=True,BE=3,verbose=False):\n",
    "    \"Calculates de mean delay in one jump in miliseconds. Assumes modulation QPSK\"\n",
    "    Tsim_ms=Tsim_us/1000\n",
    "    E_nbo=(2**(BE-1))/2\n",
    "    E_Tbo=20*Tsim_ms*E_nbo\n",
    "    Tfr=Tframe(payload,inf_address,Tsim_us)\n",
    "    Tif=Tifs(payload,Tsim_us)\n",
    "    if ack:\n",
    "        Tta=12*Tsim_ms\n",
    "        Tack=10*Tsim_ms  \n",
    "        if verbose:\n",
    "            print('Address bytes:{}, Bytes payload:{}, with ACK'.format(inf_address,payload))\n",
    "            print('E[Tbo]: {} ms, T_frame: {} ms, T_toack: {} ms,T_ack:{} ms,T_IFS: {} ms \\nTotal time for one frame: {} ms'.format(E_Tbo,Tfr,Tta,Tack,Tif,round(E_Tbo+Tfr+Tta+Tack+Tif,3)))\n",
    "        return E_Tbo+Tfr+Tta+Tack+Tif\n",
    "    else:\n",
    "        if verbose:\n",
    "            print('Address bytes:{}, Bytes payload:{}, without ACK'.format(inf_address,payload))\n",
    "            print('E[Tbo]: {} ms, T_frame: {} ms,T_IFS: {} ms \\nTotal time for one frame: {} ms'.format(E_Tbo,Tfr,Tif,round(E_Tbo+Tfr+Tif,3)))\n",
    "        return E_Tbo+Tfr+Tif\n"
   ]
  },
  {
   "cell_type": "code",
   "execution_count": 94,
   "metadata": {
    "collapsed": false
   },
   "outputs": [
    {
     "name": "stdout",
     "output_type": "stream",
     "text": [
      "Address bytes:4, Bytes payload:118, without ACK\n",
      "E[Tbo]: 0.64ms, T_frame: 4.064ms,T_IFS: 0.64ms \n",
      "Total time for one frame: 5.344ms\n"
     ]
    },
    {
     "data": {
      "text/plain": [
       "5.343999999999999"
      ]
     },
     "execution_count": 94,
     "metadata": {},
     "output_type": "execute_result"
    }
   ],
   "source": [
    "delay_1_jump(payload=118,inf_address=4,ack=False,verbose=True)"
   ]
  },
  {
   "cell_type": "markdown",
   "metadata": {
    "collapsed": false
   },
   "source": [
    "## Battery lifetime estimations"
   ]
  },
  {
   "cell_type": "markdown",
   "metadata": {},
   "source": [
    "$Life (hours)=\\frac{Battery (mAh)}{I_{Avg}}$"
   ]
  },
  {
   "cell_type": "markdown",
   "metadata": {},
   "source": [
    "$I_{Avg}=\\sum a_k I_k$"
   ]
  },
  {
   "cell_type": "markdown",
   "metadata": {},
   "source": [
    "For a CC2430 chip the average current consumption during a duty cicle is 20.37mA during 6.9ms"
   ]
  },
  {
   "cell_type": "code",
   "execution_count": 56,
   "metadata": {
    "collapsed": true
   },
   "outputs": [],
   "source": [
    "def life_CC2430(events_hour,battery=235.0):\n",
    "    \"Battery life estimation based on duty cicles per hour\"\n",
    "    Isleep=0.0005 #sleep current of 0.5uA\n",
    "    Icicle=20.37403698 #consumes 20.37 mA in a duty cicle lasting 6.49ms\n",
    "    a=Isleep*3600/(3600+0.00649*events_hour) #percentage of time spend in sleep mode\n",
    "    b=Icicle*0.00649*events_hour/(3600+0.00649*events_hour) #percentage of time active\n",
    "    return (battery/(a+b))/(24*365)"
   ]
  },
  {
   "cell_type": "code",
   "execution_count": 61,
   "metadata": {
    "collapsed": false
   },
   "outputs": [
    {
     "data": {
      "image/png": "[encoded data removed]",
      "text/plain": [
       "<matplotlib.figure.Figure at 0x7ff786d28a90>"
      ]
     },
     "metadata": {},
     "output_type": "display_data"
    }
   ],
   "source": [
    "values=np.arange(100)\n",
    "\n",
    "df=pd.DataFrame(data=life_CC2430(values),columns=['Anys de vida'])\n",
    "df.index.name='Mesures per hora'\n",
    "df.plot(kind='bar',figsize=(20,8))\n",
    "plt.title(\"Temps mig de vida d'un node sensor\",fontsize=20)\n",
    "plt.xlabel('Mesures per hora',fontsize=16)\n",
    "dump=plt.ylabel(\"Anys de vida\",fontsize=16)\n",
    "#plt.savefig('mesures.png')"
   ]
  }
 ],
 "metadata": {
  "kernelspec": {
   "display_name": "Python 3",
   "language": "python",
   "name": "python3"
  },
  "language_info": {
   "codemirror_mode": {
    "name": "ipython",
    "version": 3
   },
   "file_extension": ".py",
   "mimetype": "text/x-python",
   "name": "python",
   "nbconvert_exporter": "python",
   "pygments_lexer": "ipython3",
   "version": "3.5.0"
  }
 },
 "nbformat": 4,
 "nbformat_minor": 0
}
